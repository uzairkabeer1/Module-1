{
 "cells": [
  {
   "cell_type": "code",
   "execution_count": 1,
   "metadata": {},
   "outputs": [],
   "source": [
    "import torch\n",
    "import torch.nn as nn\n",
    "import torch.optim as optim\n",
    "from torch.optim import lr_scheduler\n",
    "import os\n",
    "from torch.autograd import Variable\n",
    "from torchvision import datasets, models, transforms\n",
    "import numpy as np\n",
    "import cv2\n",
    "import mediapipe as mp"
   ]
  },
  {
   "cell_type": "code",
   "execution_count": 2,
   "metadata": {},
   "outputs": [],
   "source": [
    "mp_hands = mp.solutions.hands.Hands(\n",
    "    max_num_hands=1, min_detection_confidence=0.5, min_tracking_confidence=0.5\n",
    ")"
   ]
  },
  {
   "cell_type": "code",
   "execution_count": 3,
   "metadata": {},
   "outputs": [],
   "source": [
    "def crop_hand_from_image(image, hand_landmarks):\n",
    "    expansion_factor = 0.2  # You can adjust this value as needed\n",
    "\n",
    "    min_x = min([landmark.x for landmark in hand_landmarks]) * image.shape[1]\n",
    "    max_x = max([landmark.x for landmark in hand_landmarks]) * image.shape[1]\n",
    "    min_y = min([landmark.y for landmark in hand_landmarks]) * image.shape[0]\n",
    "    max_y = max([landmark.y for landmark in hand_landmarks]) * image.shape[0]\n",
    "\n",
    "    width = max_x - min_x\n",
    "    height = max_y - min_y\n",
    "\n",
    "    min_x = max(0, min_x - expansion_factor * width)\n",
    "    max_x = min(image.shape[1], max_x + expansion_factor * width)\n",
    "    min_y = max(0, min_y - expansion_factor * height)\n",
    "    max_y = min(image.shape[0], max_y + expansion_factor * height)\n",
    "\n",
    "    cropped_image = image[int(min_y):int(max_y), int(min_x):int(max_x)]\n",
    "    \n",
    "\n",
    "    # Data Augmentation\n",
    "    # 1. Random rotation\n",
    "    angle = np.random.uniform(-10, 10)  # Random rotation between -10 and 10 degrees\n",
    "    M = cv2.getRotationMatrix2D((cropped_image.shape[1] / 2, cropped_image.shape[0] / 2), angle, 1)\n",
    "    rotated_image = cv2.warpAffine(cropped_image, M, (cropped_image.shape[1], cropped_image.shape[0]))\n",
    "    \n",
    "    # 2. Random brightness and contrast adjustment\n",
    "    alpha = 1.0 + np.random.uniform(-0.1, 0.1)  # Random contrast adjustment between 0.9 and 1.1\n",
    "    beta = np.random.randint(-30, 30)  # Random brightness adjustment between -30 and 30\n",
    "    augmented_image = cv2.convertScaleAbs(rotated_image, alpha=alpha, beta=beta)\n",
    "    \n",
    "    # 3. Random horizontal flip\n",
    "    if np.random.rand() > 0.5:\n",
    "        augmented_image = cv2.flip(augmented_image, 1)\n",
    "\n",
    "    return augmented_image\n"
   ]
  },
  {
   "cell_type": "code",
   "execution_count": 4,
   "metadata": {},
   "outputs": [],
   "source": [
    "def process_image_with_mediapipe(image_path):\n",
    "    image = cv2.imread(image_path)\n",
    "    image_rgb = cv2.cvtColor(image, cv2.COLOR_BGR2RGB)\n",
    "    results = mp_hands.process(image_rgb)\n",
    "    if results.multi_hand_landmarks:\n",
    "        hand_landmarks = results.multi_hand_landmarks[0].landmark\n",
    "        cropped_image = crop_hand_from_image(image, hand_landmarks)\n",
    "\n",
    "\n",
    "        return cropped_image\n",
    "    return None"
   ]
  },
  {
   "cell_type": "code",
   "execution_count": 5,
   "metadata": {},
   "outputs": [],
   "source": [
    "data_dir = 'C:/Sign Language Detection/Module 1 (sign to text)/dataset/'\n",
    "output_dir = 'C:/Sign Language Detection/Module 1 (sign to text)/resized_dataset/'\n",
    "\n",
    "os.makedirs(output_dir, exist_ok=True)"
   ]
  },
  {
   "cell_type": "code",
   "execution_count": 6,
   "metadata": {},
   "outputs": [
    {
     "name": "stdout",
     "output_type": "stream",
     "text": [
      "Processing Train_Alphabet...\n",
      "Processing Test_Alphabet...\n",
      "Hand images dataset created successfully.\n"
     ]
    }
   ],
   "source": [
    "for phase in ['Train_Alphabet', 'Test_Alphabet']:\n",
    "    print(f\"Processing {phase}...\")\n",
    "    output_phase_dir = os.path.join(output_dir, phase)\n",
    "    os.makedirs(output_phase_dir, exist_ok=True)\n",
    "\n",
    "    for root, _, filenames in os.walk(os.path.join(data_dir, phase)):\n",
    "        for filename in filenames:\n",
    "            if filename.endswith(('.jpg', '.jpeg', '.png')):\n",
    "                image_path = os.path.join(root, filename)\n",
    "                processed_image = process_image_with_mediapipe(image_path)\n",
    "                if processed_image is not None:\n",
    "                    output_path = os.path.join(output_phase_dir, os.path.relpath(image_path, data_dir))\n",
    "                    os.makedirs(os.path.dirname(output_path), exist_ok=True)\n",
    "                    cv2.imwrite(output_path, processed_image)\n",
    "\n",
    "print(\"Hand images dataset created successfully.\")"
   ]
  }
 ],
 "metadata": {
  "kernelspec": {
   "display_name": "Python 3",
   "language": "python",
   "name": "python3"
  },
  "language_info": {
   "codemirror_mode": {
    "name": "ipython",
    "version": 3
   },
   "file_extension": ".py",
   "mimetype": "text/x-python",
   "name": "python",
   "nbconvert_exporter": "python",
   "pygments_lexer": "ipython3",
   "version": "3.10.9"
  },
  "orig_nbformat": 4
 },
 "nbformat": 4,
 "nbformat_minor": 2
}
